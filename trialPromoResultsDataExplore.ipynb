{
  "cells": [
    {
      "metadata": {
        "id": "0vwEdlqp_DvZ",
        "colab_type": "code",
        "colab": {},
        "trusted": true,
        "_uuid": "6d51c6e6fda8f27de477bd88c86fb185cfe4d931"
      },
      "cell_type": "code",
      "source": "import pandas as pd\nimport matplotlib.pyplot as plt\nimport seaborn as sns\nimport numpy as np\nfrom scipy.stats import norm\nfrom sklearn.preprocessing import StandardScaler\nfrom scipy import stats\nimport warnings\nwarnings.filterwarnings('ignore')",
      "execution_count": null,
      "outputs": []
    },
    {
      "metadata": {
        "id": "yPT6py_1AzRB",
        "colab_type": "text",
        "_uuid": "eedf0d7e147a43b5753f22ebb8ce7e725c3eb5df"
      },
      "cell_type": "markdown",
      "source": "# Trial Mailing Campaign"
    },
    {
      "metadata": {
        "id": "UA4HaoeTA3Zh",
        "colab_type": "text",
        "_uuid": "f7690fcee9c12856b38d51ff26faa93e62fd13a1"
      },
      "cell_type": "markdown",
      "source": "## Import CSV to Google Colab"
    },
    {
      "metadata": {
        "id": "fsp439B8_aNG",
        "colab_type": "code",
        "colab": {
          "base_uri": "https://localhost:8080/",
          "height": 204
        },
        "outputId": "9bf609f2-6b02-46f6-ccd5-a545071a9d28",
        "trusted": true,
        "scrolled": true,
        "_uuid": "819c95a86b011e0c8256d1b3514f5743aa19bcd6"
      },
      "cell_type": "code",
      "source": "df = pd.read_csv('../input/trialPromoResults.csv')\ndf.head()",
      "execution_count": null,
      "outputs": []
    },
    {
      "metadata": {
        "id": "mD2295LQC2QD",
        "colab_type": "code",
        "colab": {
          "base_uri": "https://localhost:8080/",
          "height": 68
        },
        "outputId": "c324a568-0f13-456e-8519-9aa252b2616d",
        "trusted": true,
        "_uuid": "c19b4ba9ea41ee02d84228d1d1d46d4c25b3dde1"
      },
      "cell_type": "code",
      "source": "df.columns.values",
      "execution_count": null,
      "outputs": []
    },
    {
      "metadata": {
        "id": "Xhe9KDfxDmN3",
        "colab_type": "code",
        "colab": {},
        "trusted": true,
        "_uuid": "1419f2f8e9466009c531797c00e5e8f2c3c49229"
      },
      "cell_type": "code",
      "source": "# rename columns e.g. ' sex' to 'sex'\ndf.columns = ['index', 'sex', 'mstatus', 'age', 'children', 'occupation', 'education', 'income', 'avbal', 'avtrans', 'decision']",
      "execution_count": null,
      "outputs": []
    },
    {
      "metadata": {
        "id": "nSX6ywx4BTqU",
        "colab_type": "text",
        "_uuid": "24823dc939ff42f44a9c24cc16dba1bd60fef1a7"
      },
      "cell_type": "markdown",
      "source": "# Data Exploration"
    },
    {
      "metadata": {
        "id": "89KPk3jqAkEJ",
        "colab_type": "text",
        "_uuid": "50e8aa4797fe6bde20949afe4962e427226c9bbd"
      },
      "cell_type": "markdown",
      "source": "## Target variable exploration - Decision"
    },
    {
      "metadata": {
        "id": "zxh5mAxCoSF4",
        "colab_type": "code",
        "colab": {
          "base_uri": "https://localhost:8080/",
          "height": 85
        },
        "outputId": "fe6c6990-81b2-4b2a-ae50-8d00a6b87379",
        "trusted": true,
        "_uuid": "d97da216c67cc943887d9dd59532f9ce1cbd2422"
      },
      "cell_type": "code",
      "source": "df['decision'].value_counts()",
      "execution_count": null,
      "outputs": []
    },
    {
      "metadata": {
        "id": "nbWj9-e1xsW7",
        "colab_type": "code",
        "colab": {
          "base_uri": "https://localhost:8080/",
          "height": 242
        },
        "outputId": "da75ada7-cbef-439f-ac8e-2eedee5b2dfd",
        "trusted": true,
        "_uuid": "22f79be09416153c1a8b68df6f30f0d2d470c7df"
      },
      "cell_type": "code",
      "source": "f, ax = plt.subplots(figsize=(7, 3))\n\ndf['decision'].value_counts().plot.barh(ax=ax, color=['tab:gray', 'tab:blue', 'tab:orange'])\nax.invert_yaxis()\nax.set_title('Decision', fontsize=15)\nax.set_xlabel('Count')\nplt.show()",
      "execution_count": null,
      "outputs": []
    },
    {
      "metadata": {
        "id": "nxQb-TMMoo3o",
        "colab_type": "text",
        "_uuid": "2a8b74ed738595aa8e1be615ffa21c5a83762e4e"
      },
      "cell_type": "markdown",
      "source": "## Input variable exploration"
    },
    {
      "metadata": {
        "id": "B7VuhPT8pHp9",
        "colab_type": "text",
        "_uuid": "16a893b4327e0781d9a6bd3657d73cc390cda2fe"
      },
      "cell_type": "markdown",
      "source": "### Sex"
    },
    {
      "metadata": {
        "id": "wXFRDInnooCI",
        "colab_type": "code",
        "colab": {
          "base_uri": "https://localhost:8080/",
          "height": 68
        },
        "outputId": "864ee1a3-467c-408e-be05-221616758922",
        "trusted": true,
        "_uuid": "e330eaff6f480459222634e45b7ffa8df36675b4"
      },
      "cell_type": "code",
      "source": "df['sex'].value_counts()",
      "execution_count": null,
      "outputs": []
    },
    {
      "metadata": {
        "id": "Beh13phUzH36",
        "colab_type": "code",
        "colab": {
          "base_uri": "https://localhost:8080/",
          "height": 188
        },
        "outputId": "06a292e6-41ac-47e2-fbf0-c52c6f5f0e8e",
        "trusted": true,
        "_uuid": "553675d7a5b72731eb37873ca3497beba1ef428f"
      },
      "cell_type": "code",
      "source": "f, ax = plt.subplots(figsize=(7, 2))\n\ndf['sex'].value_counts().plot.barh(ax=ax, color=['tab:pink', 'tab:brown'])\nax.invert_yaxis()\nax.set_title('Gender', fontsize=15)\nax.set_xlabel('Count')\nplt.show()",
      "execution_count": null,
      "outputs": []
    },
    {
      "metadata": {
        "id": "SgCTFYh6edjg",
        "colab_type": "code",
        "colab": {
          "base_uri": "https://localhost:8080/",
          "height": 242
        },
        "outputId": "a3abed18-727d-4015-e59f-4f2d2bd5389e",
        "trusted": true,
        "_uuid": "015e9bf8b5623ad33c8c4f86f9af56be8f009145"
      },
      "cell_type": "code",
      "source": "f, ax = plt.subplots(figsize=(7, 3))\nsns.countplot(y=\"sex\", data=df, palette=['tab:gray', 'tab:orange', 'tab:blue'], hue='decision')",
      "execution_count": null,
      "outputs": []
    },
    {
      "metadata": {
        "id": "r7eNMSqfo49b",
        "colab_type": "text",
        "_uuid": "c7e61721873b0deb5fcf7222d0beb3054ba427ac"
      },
      "cell_type": "markdown",
      "source": "### Marital Status"
    },
    {
      "metadata": {
        "id": "IBcJbJ4BOtkj",
        "colab_type": "code",
        "colab": {
          "base_uri": "https://localhost:8080/",
          "height": 102
        },
        "outputId": "a99d35f1-b76a-4aa9-ac1a-0f66cf1db50c",
        "trusted": true,
        "_uuid": "5fe5587dabe40740506b91a2bac7148da66f4234"
      },
      "cell_type": "code",
      "source": "# Male Marital Status\ndf['mstatus'].loc[df['sex'] == 'M'].value_counts()",
      "execution_count": null,
      "outputs": []
    },
    {
      "metadata": {
        "id": "PWmoOy2LPBgk",
        "colab_type": "code",
        "colab": {
          "base_uri": "https://localhost:8080/",
          "height": 102
        },
        "outputId": "b953f98d-6798-49c2-baf5-ba6b75e15448",
        "trusted": true,
        "_uuid": "3c78a0710ee87c811e4bd771620eab558e68c98a"
      },
      "cell_type": "code",
      "source": "# Female Marital Status\ndf['mstatus'].loc[df['sex'] == 'F'].value_counts()",
      "execution_count": null,
      "outputs": []
    },
    {
      "metadata": {
        "id": "CZsGqwbIzLHx",
        "colab_type": "code",
        "colab": {
          "base_uri": "https://localhost:8080/",
          "height": 351
        },
        "outputId": "9a31d9f4-d174-483b-e47a-5100197c5fb5",
        "trusted": true,
        "_uuid": "7dd719fb6ff56987fdef4f14cbe12be63e164f93"
      },
      "cell_type": "code",
      "source": "f, ax = plt.subplots(figsize=(7, 5))\nsns.countplot(y=\"mstatus\", data=df, palette=['tab:gray', 'tab:orange', 'tab:blue'], hue='decision')",
      "execution_count": null,
      "outputs": []
    },
    {
      "metadata": {
        "id": "Rnb8CvO3evm6",
        "colab_type": "code",
        "colab": {
          "base_uri": "https://localhost:8080/",
          "height": 351
        },
        "outputId": "29048974-b918-40b7-c8bf-ee9819477b84",
        "trusted": true,
        "_uuid": "32560b70fc71f11c1a4d3d32afb073026b5ec021"
      },
      "cell_type": "code",
      "source": "# Male Marital Status and investment preference\nf, ax = plt.subplots(figsize=(7, 5))\nsns.countplot(y=\"mstatus\", data=df.loc[df['sex']=='M'], palette=['tab:gray', 'tab:orange', 'tab:blue'], hue='decision')",
      "execution_count": null,
      "outputs": []
    },
    {
      "metadata": {
        "id": "9CT-RATefB1h",
        "colab_type": "code",
        "colab": {
          "base_uri": "https://localhost:8080/",
          "height": 351
        },
        "outputId": "bec39595-9918-41d0-850e-47c07cf42865",
        "trusted": true,
        "_uuid": "5e4f5fc5613604887de87b120d233472163b859d"
      },
      "cell_type": "code",
      "source": "# Female Marital Status and investment preference\nf, ax = plt.subplots(figsize=(7, 5))\nsns.countplot(y=\"mstatus\", data=df.loc[df['sex']=='F'], palette=['tab:gray', 'tab:blue', 'tab:orange'], hue='decision')",
      "execution_count": null,
      "outputs": []
    },
    {
      "metadata": {
        "id": "T----lyCpaxm",
        "colab_type": "text",
        "_uuid": "2573bbffa95af59b678fcb33fbbe12fa3264eccf"
      },
      "cell_type": "markdown",
      "source": "### Age"
    },
    {
      "metadata": {
        "id": "yvy-k1ZupVoa",
        "colab_type": "code",
        "colab": {
          "base_uri": "https://localhost:8080/",
          "height": 170
        },
        "outputId": "37f77625-c7b0-4465-8597-ed6551936fc6",
        "trusted": true,
        "_uuid": "57a64f9b3d17e43d4ae33620088b03faf7cb46bd"
      },
      "cell_type": "code",
      "source": "df['age'].describe()",
      "execution_count": null,
      "outputs": []
    },
    {
      "metadata": {
        "id": "wMjYZdIarFZH",
        "colab_type": "code",
        "colab": {
          "base_uri": "https://localhost:8080/",
          "height": 347
        },
        "outputId": "87573453-38bd-4617-e3f0-2860affe7441",
        "trusted": true,
        "_uuid": "406c2e9c4f18d9f1c4a48de6eeca8a8a6acd4b3d"
      },
      "cell_type": "code",
      "source": "bins = np.linspace(15, 100, 50)\n\nplt.hist(df['age'].loc[df['decision'] == 'None'], bins, label='None', color='tab:gray')\nplt.hist(df['age'].loc[df['decision'] == 'A'], bins, label='A', color='tab:blue')\nplt.hist(df['age'].loc[df['decision'] == 'B'], bins, label='B', color='tab:orange')\n\nplt.legend(loc='upper right')\nplt.show()",
      "execution_count": null,
      "outputs": []
    },
    {
      "metadata": {
        "id": "attOYOPfp6-h",
        "colab_type": "text",
        "_uuid": "86b9f89cda084d57e25760763ba4541d670d66c8"
      },
      "cell_type": "markdown",
      "source": "### Children"
    },
    {
      "metadata": {
        "id": "DOJ8XxL1pdtH",
        "colab_type": "code",
        "colab": {
          "base_uri": "https://localhost:8080/",
          "height": 119
        },
        "outputId": "42a6235a-b822-4392-fc76-1fd09a089553",
        "trusted": true,
        "_uuid": "58e62c9d9008d73d7cc1fa7eb5546df1322b844e"
      },
      "cell_type": "code",
      "source": "df['children'].value_counts()",
      "execution_count": null,
      "outputs": []
    },
    {
      "metadata": {
        "id": "2fnCkQyxsEkl",
        "colab_type": "code",
        "colab": {
          "base_uri": "https://localhost:8080/",
          "height": 351
        },
        "outputId": "957507b9-fa9f-4d41-d59c-18f5a2ed6878",
        "trusted": true,
        "_uuid": "0b969f361ec6720507eedea115e18c9935015f62"
      },
      "cell_type": "code",
      "source": "f, ax = plt.subplots(figsize=(7, 5))\nsns.countplot(y=\"children\", data=df, palette=['tab:gray', 'tab:orange', 'tab:blue'], hue='decision')",
      "execution_count": null,
      "outputs": []
    },
    {
      "metadata": {
        "id": "N8NednlEp9ip",
        "colab_type": "text",
        "_uuid": "c14687fbf3bd8001eb068479526172ebd8843839"
      },
      "cell_type": "markdown",
      "source": "### Occupation"
    },
    {
      "metadata": {
        "id": "7E3qPKh_pi0a",
        "colab_type": "code",
        "colab": {
          "base_uri": "https://localhost:8080/",
          "height": 187
        },
        "outputId": "53bef470-6d3d-43c9-f1a1-0025ede4a41d",
        "trusted": true,
        "_uuid": "e046addca3d2613f3edcd5741513fdac6f023a6b"
      },
      "cell_type": "code",
      "source": "df['occupation'].value_counts()",
      "execution_count": null,
      "outputs": []
    },
    {
      "metadata": {
        "id": "h5B5qvwKRYHP",
        "colab_type": "code",
        "colab": {
          "base_uri": "https://localhost:8080/",
          "height": 623
        },
        "outputId": "7ffca7ec-82ad-43ef-955a-2e634d402967",
        "trusted": true,
        "_uuid": "c06466c94de2998d40c6874fd27e6d4501a1279f"
      },
      "cell_type": "code",
      "source": "f, ax = plt.subplots(figsize=(7, 10))\nsns.countplot(y=\"occupation\", data=df, palette=['tab:gray', 'tab:orange', 'tab:blue'], hue='decision')",
      "execution_count": null,
      "outputs": []
    },
    {
      "metadata": {
        "id": "x2pSE0odskY1",
        "colab_type": "text",
        "_uuid": "b2a041057fad3f14201b1d9852a18d9e2c61e8b4"
      },
      "cell_type": "markdown",
      "source": "### Education"
    },
    {
      "metadata": {
        "id": "KwpLEyg4s8jf",
        "colab_type": "code",
        "colab": {
          "base_uri": "https://localhost:8080/",
          "height": 102
        },
        "outputId": "b739ea1b-2d38-452d-d3e5-bfd7ec6e9466",
        "trusted": true,
        "_uuid": "e26c2cb0972c353cd902b8284e5cf22ea63cbebb"
      },
      "cell_type": "code",
      "source": "df['education'].value_counts()",
      "execution_count": null,
      "outputs": []
    },
    {
      "metadata": {
        "id": "-URdJcJGtJ_I",
        "colab_type": "code",
        "colab": {
          "base_uri": "https://localhost:8080/",
          "height": 351
        },
        "outputId": "cc627db0-f246-4d60-de9c-9a00ff550709",
        "trusted": true,
        "_uuid": "83edf0ee33f10fc407bcc666299e067859e53d96"
      },
      "cell_type": "code",
      "source": "f, ax = plt.subplots(figsize=(7, 5))\nsns.countplot(y=\"education\", data=df, palette=['tab:gray', 'tab:orange', 'tab:blue'], hue='decision')",
      "execution_count": null,
      "outputs": []
    },
    {
      "metadata": {
        "id": "roG8jt_1qAJA",
        "colab_type": "text",
        "_uuid": "c8ece7726e68181dfbd2fb7f7756617ce706bcf6"
      },
      "cell_type": "markdown",
      "source": "### Income"
    },
    {
      "metadata": {
        "id": "ne0PQc5WpoKy",
        "colab_type": "code",
        "colab": {
          "base_uri": "https://localhost:8080/",
          "height": 170
        },
        "outputId": "ae3e9414-c948-4d4b-8a90-f003ef2d2058",
        "trusted": true,
        "_uuid": "e7ad1a6c130d23f228e47d46853dd0c63726155e"
      },
      "cell_type": "code",
      "source": "df['income'].describe()",
      "execution_count": null,
      "outputs": []
    },
    {
      "metadata": {
        "id": "c5VK9euWvPME",
        "colab_type": "code",
        "colab": {
          "base_uri": "https://localhost:8080/",
          "height": 347
        },
        "outputId": "f8a2e8ee-d851-46e3-97b1-1f0a5c6be390",
        "trusted": true,
        "_uuid": "117188b9284389191e3fde84dc25e976d9ec706b"
      },
      "cell_type": "code",
      "source": "bins = np.linspace(300, 20000, 50)\n\nplt.hist(df['income'].loc[df['decision'] == 'None'], bins, label='None', color='tab:gray')\nplt.hist(df['income'].loc[df['decision'] == 'A'], bins, label='A', color='tab:blue')\nplt.hist(df['income'].loc[df['decision'] == 'B'], bins, label='B', color='tab:orange')\n\nplt.legend(loc='upper right')\nplt.show()",
      "execution_count": null,
      "outputs": []
    },
    {
      "metadata": {
        "trusted": true,
        "_uuid": "fbdd2857fa889b77c4af5db4ec5e41484c5c3322"
      },
      "cell_type": "code",
      "source": "#skewness\nprint(\"Skewness: %f\" % df['income'].skew())\n#histogram and normal probability plot\nsns.distplot(df['income'], fit=norm);\nfig = plt.figure()\nres = stats.probplot(df['income'], plot=plt)",
      "execution_count": null,
      "outputs": []
    },
    {
      "metadata": {
        "trusted": true,
        "_uuid": "10d513a7e415c17205d0d1b1e70409a69ea53775"
      },
      "cell_type": "code",
      "source": "#skewness\nprint(\"Skewness: %f\" % np.log(df['income']).skew())\n#apply log-transform on the 'price_doc' target variable\n#histogram and normal probability plot\nsns.distplot(np.log(df['income']), fit=norm);\nfig = plt.figure()\nres = stats.probplot(np.log(df['income']), plot=plt)",
      "execution_count": null,
      "outputs": []
    },
    {
      "metadata": {
        "id": "xmuBBgGEqCIh",
        "colab_type": "text",
        "_uuid": "722253f58079bf7249258d65e63ca268760f5b0f"
      },
      "cell_type": "markdown",
      "source": "### Average Monthly Balance"
    },
    {
      "metadata": {
        "id": "-67BRVIdptka",
        "colab_type": "code",
        "colab": {
          "base_uri": "https://localhost:8080/",
          "height": 170
        },
        "outputId": "f690c137-93d5-414b-dd12-5976c2e34e48",
        "trusted": true,
        "_uuid": "d8cffaa0da46f8af7421cd1c660f48ace13cc8db"
      },
      "cell_type": "code",
      "source": "df['avbal'].describe()",
      "execution_count": null,
      "outputs": []
    },
    {
      "metadata": {
        "id": "DzYMAOU3voR3",
        "colab_type": "code",
        "colab": {
          "base_uri": "https://localhost:8080/",
          "height": 347
        },
        "outputId": "c90238ba-ae0d-45b6-e9bd-bc1be0bafe0c",
        "trusted": true,
        "_uuid": "8261a4a5a46ecb5889efefcc644fb9f0e79b1809"
      },
      "cell_type": "code",
      "source": "bins = np.linspace(300, 20000, 50)\n\nplt.hist(df['avbal'].loc[df['decision'] == 'None'], bins, label='None', color='tab:gray')\nplt.hist(df['avbal'].loc[df['decision'] == 'A'], bins, label='A', color='tab:blue')\nplt.hist(df['avbal'].loc[df['decision'] == 'B'], bins, label='B', color='tab:orange')\n\nplt.legend(loc='upper right')\nplt.show()",
      "execution_count": null,
      "outputs": []
    },
    {
      "metadata": {
        "trusted": true,
        "_uuid": "d002abc79141fc599cb285b6f3801db46b81d5c3"
      },
      "cell_type": "code",
      "source": "#skewness\nprint(\"Skewness: %f\" % df['avbal'].skew())\n#histogram and normal probability plot\nsns.distplot(df['avbal'], fit=norm);\nfig = plt.figure()\nres = stats.probplot(df['avbal'], plot=plt)",
      "execution_count": null,
      "outputs": []
    },
    {
      "metadata": {
        "trusted": true,
        "_uuid": "ec3045391e1e67f0389d36e3af629711276d3884"
      },
      "cell_type": "code",
      "source": "#skewness\nprint(\"Skewness: %f\" % np.log(df['avbal']).skew())\n#histogram and normal probability plot\nsns.distplot(np.log(df['avbal']), fit=norm);\nfig = plt.figure()\nres = stats.probplot(np.log(df['avbal']), plot=plt)",
      "execution_count": null,
      "outputs": []
    },
    {
      "metadata": {
        "id": "MRp9EFGAqFda",
        "colab_type": "text",
        "_uuid": "77eda8f3bd58e11ec46e0385811c6a384deb0d02"
      },
      "cell_type": "markdown",
      "source": "### Average Monthly Transaction"
    },
    {
      "metadata": {
        "id": "p3PEkYmlpzTM",
        "colab_type": "code",
        "colab": {
          "base_uri": "https://localhost:8080/",
          "height": 170
        },
        "outputId": "04e5cd4f-3d5e-4ef8-c205-3588d98f3ee8",
        "trusted": true,
        "_uuid": "f5ead546e854d4caa010f491fc9dd7c4e6d580dd"
      },
      "cell_type": "code",
      "source": "df['avtrans'].describe()",
      "execution_count": null,
      "outputs": []
    },
    {
      "metadata": {
        "id": "3p35Bh-Vp3hU",
        "colab_type": "code",
        "colab": {
          "base_uri": "https://localhost:8080/",
          "height": 347
        },
        "outputId": "4808f3bf-122c-4aa7-9bff-6d5ee20f584b",
        "trusted": true,
        "_uuid": "3d25d10b30e59b86b54b7a7aa4444a742fb0ee58"
      },
      "cell_type": "code",
      "source": "bins = np.linspace(300, 20000, 50)\n\nplt.hist(df['avtrans'].loc[df['decision'] == 'None'], bins, label='None', color='tab:gray')\nplt.hist(df['avtrans'].loc[df['decision'] == 'A'], bins, label='A', color='tab:blue')\nplt.hist(df['avtrans'].loc[df['decision'] == 'B'], bins, label='B', color='tab:orange')\n\nplt.legend(loc='upper right')\nplt.show()",
      "execution_count": null,
      "outputs": []
    },
    {
      "metadata": {
        "id": "Y5Z4l7AOfrzr",
        "colab_type": "code",
        "colab": {},
        "trusted": true,
        "_uuid": "b0bdfb0a57bb5fb9d19b4e8917392476ea160751"
      },
      "cell_type": "code",
      "source": "#skewness\nprint(\"Skewness: %f\" % df['avtrans'].skew())\n#histogram and normal probability plot\nsns.distplot(df['avtrans'], fit=norm);\nfig = plt.figure()\nres = stats.probplot(df['avtrans'], plot=plt)",
      "execution_count": null,
      "outputs": []
    },
    {
      "metadata": {
        "trusted": true,
        "_uuid": "e7c35cde891b4ad7d03b9c13e55b93c25aa88a87"
      },
      "cell_type": "code",
      "source": "#skewness\nprint(\"Skewness: %f\" % np.log(df['avtrans']).skew())\n#histogram and normal probability plot\nsns.distplot(np.log(df['avtrans']), fit=norm);\nfig = plt.figure()\nres = stats.probplot(np.log(df['avtrans']), plot=plt)",
      "execution_count": null,
      "outputs": []
    },
    {
      "metadata": {
        "trusted": true,
        "_uuid": "62369e5ba8dc732346cbaa0294a5e30207d1d19f"
      },
      "cell_type": "code",
      "source": "",
      "execution_count": null,
      "outputs": []
    }
  ],
  "metadata": {
    "colab": {
      "name": "ca1_workshop2b_data_exploration",
      "version": "0.3.2",
      "provenance": [],
      "collapsed_sections": []
    },
    "kernelspec": {
      "display_name": "Python 3",
      "language": "python",
      "name": "python3"
    },
    "language_info": {
      "name": "python",
      "version": "3.6.6",
      "mimetype": "text/x-python",
      "codemirror_mode": {
        "name": "ipython",
        "version": 3
      },
      "pygments_lexer": "ipython3",
      "nbconvert_exporter": "python",
      "file_extension": ".py"
    }
  },
  "nbformat": 4,
  "nbformat_minor": 1
}